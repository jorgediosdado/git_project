{
 "cells": [
  {
   "cell_type": "code",
   "execution_count": 1,
   "metadata": {},
   "outputs": [],
   "source": [
    "import os\n",
    "import tensorflow as tf\n",
    "import keras\n",
    "from keras import models\n",
    "from keras import layers\n",
    "from datetime import datetime\n",
    "from PIL import Image\n",
    "import numpy as np\n",
    "import keras.backend as K\n",
    "import matplotlib.pyplot as plt\n"
   ]
  },
  {
   "cell_type": "code",
   "execution_count": 2,
   "metadata": {},
   "outputs": [
    {
     "name": "stderr",
     "output_type": "stream",
     "text": [
      "2023/02/20 12:48:14 INFO mlflow.tracking.fluent: Autologging successfully enabled for tensorflow.\n"
     ]
    }
   ],
   "source": [
    "import mlflow \n",
    "mlflow.set_experiment('mlflow_class')\n",
    "mlflow.autolog()"
   ]
  },
  {
   "cell_type": "code",
   "execution_count": 3,
   "metadata": {},
   "outputs": [],
   "source": [
    "# print('Default GPU Device: {}'.format(tf.test.gpu_device_name()))"
   ]
  },
  {
   "cell_type": "code",
   "execution_count": 4,
   "metadata": {},
   "outputs": [
    {
     "name": "stdout",
     "output_type": "stream",
     "text": [
      "Found 15351 files belonging to 3 classes.\n",
      "Using 12281 files for training.\n",
      "Found 15351 files belonging to 3 classes.\n",
      "Using 3070 files for validation.\n"
     ]
    }
   ],
   "source": [
    "image_size = (255, 255)\n",
    "batch_size = 32\n",
    "\n",
    "train_ds = tf.keras.preprocessing.image_dataset_from_directory(\n",
    "    'combined_dataset',\n",
    "    validation_split=0.2,\n",
    "    subset=\"training\",\n",
    "    label_mode = 'int',\n",
    "    labels = 'inferred',\n",
    "    seed=1337,\n",
    "    image_size=image_size,\n",
    "    interpolation = 'bilinear',\n",
    "    batch_size=batch_size,\n",
    "    shuffle = True,\n",
    ")\n",
    "\n",
    "\n",
    "val_ds = tf.keras.preprocessing.image_dataset_from_directory(\n",
    "    'combined_dataset',\n",
    "    validation_split=0.2,\n",
    "    subset=\"validation\",\n",
    "    label_mode = 'int',\n",
    "    labels = 'inferred',\n",
    "    seed=1337,\n",
    "    image_size=image_size,\n",
    "    interpolation = 'bilinear',\n",
    "    batch_size=batch_size,\n",
    "    shuffle = True,\n",
    ")\n"
   ]
  },
  {
   "cell_type": "code",
   "execution_count": 5,
   "metadata": {},
   "outputs": [],
   "source": [
    "K.clear_session()"
   ]
  },
  {
   "cell_type": "code",
   "execution_count": 6,
   "metadata": {},
   "outputs": [
    {
     "name": "stdout",
     "output_type": "stream",
     "text": [
      "Model: \"sequential\"\n",
      "_________________________________________________________________\n",
      "Layer (type)                 Output Shape              Param #   \n",
      "=================================================================\n",
      "rescaling (Rescaling)        (None, 255, 255, 3)       0         \n",
      "_________________________________________________________________\n",
      "random_flip (RandomFlip)     (None, 255, 255, 3)       0         \n",
      "_________________________________________________________________\n",
      "random_rotation (RandomRotat (None, 255, 255, 3)       0         \n",
      "_________________________________________________________________\n",
      "random_zoom (RandomZoom)     (None, 255, 255, 3)       0         \n",
      "_________________________________________________________________\n",
      "random_contrast (RandomContr (None, 255, 255, 3)       0         \n",
      "_________________________________________________________________\n",
      "conv2d (Conv2D)              (None, 251, 251, 32)      2432      \n",
      "_________________________________________________________________\n",
      "max_pooling2d (MaxPooling2D) (None, 125, 125, 32)      0         \n",
      "_________________________________________________________________\n",
      "conv2d_1 (Conv2D)            (None, 124, 124, 64)      8256      \n",
      "_________________________________________________________________\n",
      "conv2d_2 (Conv2D)            (None, 123, 123, 64)      16448     \n",
      "_________________________________________________________________\n",
      "conv2d_3 (Conv2D)            (None, 122, 122, 64)      16448     \n",
      "_________________________________________________________________\n",
      "max_pooling2d_1 (MaxPooling2 (None, 61, 61, 64)        0         \n",
      "_________________________________________________________________\n",
      "conv2d_4 (Conv2D)            (None, 60, 60, 128)       32896     \n",
      "_________________________________________________________________\n",
      "conv2d_5 (Conv2D)            (None, 59, 59, 128)       65664     \n",
      "_________________________________________________________________\n",
      "max_pooling2d_2 (MaxPooling2 (None, 29, 29, 128)       0         \n",
      "_________________________________________________________________\n",
      "conv2d_6 (Conv2D)            (None, 27, 27, 256)       295168    \n",
      "_________________________________________________________________\n",
      "max_pooling2d_3 (MaxPooling2 (None, 13, 13, 256)       0         \n",
      "_________________________________________________________________\n",
      "flatten (Flatten)            (None, 43264)             0         \n",
      "_________________________________________________________________\n",
      "dense (Dense)                (None, 1024)              44303360  \n",
      "_________________________________________________________________\n",
      "dropout (Dropout)            (None, 1024)              0         \n",
      "_________________________________________________________________\n",
      "dense_1 (Dense)              (None, 512)               524800    \n",
      "_________________________________________________________________\n",
      "dropout_1 (Dropout)          (None, 512)               0         \n",
      "_________________________________________________________________\n",
      "dense_2 (Dense)              (None, 3)                 1539      \n",
      "=================================================================\n",
      "Total params: 45,267,011\n",
      "Trainable params: 45,267,011\n",
      "Non-trainable params: 0\n",
      "_________________________________________________________________\n"
     ]
    }
   ],
   "source": [
    "imput = (255,255,3)\n",
    "\n",
    "#Create the model. It is a CNN with maxpooling and dropout\n",
    "\n",
    "model=models.Sequential()\n",
    "\n",
    "model.add(layers.Rescaling(scale = 1./255, offset=0.0, input_shape=imput))\n",
    "\n",
    "\n",
    "model.add(layers.RandomFlip(\"horizontal_and_vertical\"))\n",
    "model.add(layers.RandomRotation(0.2))\n",
    "model.add(layers.RandomZoom(0.2))\n",
    "model.add(layers.RandomContrast(0.2))\n",
    "# model.add(layers.RandomWidth(0.2))\n",
    "# model.add(layers.RandomHeight(0.2))\n",
    "\n",
    "\n",
    "model.add(layers.Conv2D(filters=32, kernel_size=(5,5), activation='relu'))\n",
    "model.add(layers.MaxPooling2D(pool_size=(2, 2)))\n",
    "\n",
    "model.add(layers.Conv2D(filters=64, kernel_size=(2,2), activation='relu'))\n",
    "model.add(layers.Conv2D(filters=64, kernel_size=(2,2), activation='relu'))\n",
    "model.add(layers.Conv2D(filters=64, kernel_size=(2,2), activation='relu'))\n",
    "\n",
    "model.add(layers.MaxPooling2D(pool_size=(2, 2)))\n",
    "\n",
    "model.add(layers.Conv2D(filters=128, kernel_size=(2,2), activation='relu'))\n",
    "model.add(layers.Conv2D(filters=128, kernel_size=(2,2), activation='relu'))\n",
    "\n",
    "\n",
    "model.add(layers.MaxPooling2D(pool_size=(2, 2)))\n",
    "\n",
    "model.add(layers.Conv2D(filters=256, kernel_size=(3,3), activation='relu'))\n",
    "model.add(layers.MaxPooling2D(pool_size=(2, 2)))\n",
    "\n",
    "\n",
    "\n",
    "# Add flatten layer\n",
    "model.add(layers.Flatten())\n",
    "\n",
    "# Add dense/dropout layers + activation functions\n",
    "\n",
    "model.add(layers.Dense(1024, activation = 'relu'))\n",
    "model.add(layers.Dropout(0.1))\n",
    "\n",
    "model.add(layers.Dense(512, activation = 'relu'))\n",
    "model.add(layers.Dropout(0.1))\n",
    "\n",
    "model.add(layers.Dense(3, activation = 'softmax'))\n",
    "\n",
    "\n",
    "\n",
    "model.compile(optimizer = 'adam', loss = 'sparse_categorical_crossentropy', metrics = ['accuracy'])\n",
    "model.summary()\n",
    "\n"
   ]
  },
  {
   "cell_type": "code",
   "execution_count": 7,
   "metadata": {},
   "outputs": [],
   "source": [
    "folder_date = datetime.now().strftime(\"%Y_%m_%d-%I_%M_%S_%p\")\n",
    "os.mkdir(folder_date)\n",
    "filepath_model = folder_date + '/my_best_model.epoch{epoch:02d}-loss{val_loss:.2f}.hdf5'"
   ]
  },
  {
   "attachments": {},
   "cell_type": "markdown",
   "metadata": {},
   "source": [
    "# Callbacks"
   ]
  },
  {
   "cell_type": "code",
   "execution_count": 8,
   "metadata": {},
   "outputs": [],
   "source": [
    "model_checkpoint_callback = tf.keras.callbacks.ModelCheckpoint(\n",
    "filepath=filepath_model,\n",
    "save_weights_only=False,\n",
    "monitor='val_accuracy',\n",
    "mode='max',\n",
    "save_freq=\"epoch\",\n",
    "save_best_only=True)"
   ]
  },
  {
   "cell_type": "code",
   "execution_count": 9,
   "metadata": {},
   "outputs": [],
   "source": [
    "early_stopping = tf.keras.callbacks.EarlyStopping(monitor='val_loss', patience=4, mode='auto', verbose = 1, )"
   ]
  },
  {
   "cell_type": "code",
   "execution_count": 10,
   "metadata": {},
   "outputs": [
    {
     "name": "stderr",
     "output_type": "stream",
     "text": [
      "2023/02/20 12:48:17 INFO mlflow.utils.autologging_utils: Created MLflow autologging run with ID 'e7c65ad7a7cf41deb37c7d379640002f', which will track hyperparameters, performance metrics, model artifacts, and lineage information for the current tensorflow workflow\n"
     ]
    },
    {
     "name": "stdout",
     "output_type": "stream",
     "text": [
      "Epoch 1/20\n",
      "  6/384 [..............................] - ETA: 2:37 - loss: 1.1032 - accuracy: 0.3594WARNING:tensorflow:Callback method `on_train_batch_end` is slow compared to the batch time (batch time: 0.1636s vs `on_train_batch_end` time: 0.2113s). Check your callbacks.\n",
      "384/384 [==============================] - 167s 401ms/step - loss: 0.5539 - accuracy: 0.7157 - val_loss: 0.6439 - val_accuracy: 0.6215\n",
      "Epoch 2/20\n",
      "384/384 [==============================] - 147s 381ms/step - loss: 0.4188 - accuracy: 0.8124 - val_loss: 0.3096 - val_accuracy: 0.8746\n",
      "Epoch 3/20\n",
      "384/384 [==============================] - 145s 377ms/step - loss: 0.3632 - accuracy: 0.8472 - val_loss: 0.5952 - val_accuracy: 0.6951\n",
      "Epoch 4/20\n",
      "384/384 [==============================] - 145s 376ms/step - loss: 0.3210 - accuracy: 0.8687 - val_loss: 0.2893 - val_accuracy: 0.8782\n",
      "Epoch 5/20\n",
      "384/384 [==============================] - 147s 382ms/step - loss: 0.2517 - accuracy: 0.8981 - val_loss: 0.2032 - val_accuracy: 0.9186\n",
      "Epoch 6/20\n",
      "384/384 [==============================] - 140s 363ms/step - loss: 0.2314 - accuracy: 0.9080 - val_loss: 0.1684 - val_accuracy: 0.9371\n",
      "Epoch 7/20\n",
      "384/384 [==============================] - 125s 325ms/step - loss: 0.2144 - accuracy: 0.9134 - val_loss: 0.2100 - val_accuracy: 0.9114\n",
      "Epoch 8/20\n",
      "384/384 [==============================] - 125s 325ms/step - loss: 0.2175 - accuracy: 0.9154 - val_loss: 0.3141 - val_accuracy: 0.9208\n",
      "Epoch 9/20\n",
      "384/384 [==============================] - 125s 325ms/step - loss: 0.2047 - accuracy: 0.9187 - val_loss: 0.2068 - val_accuracy: 0.9218\n",
      "Epoch 10/20\n",
      "384/384 [==============================] - 125s 325ms/step - loss: 0.1814 - accuracy: 0.9269 - val_loss: 0.1534 - val_accuracy: 0.9456\n",
      "Epoch 11/20\n",
      "384/384 [==============================] - 125s 325ms/step - loss: 0.1758 - accuracy: 0.9305 - val_loss: 0.1287 - val_accuracy: 0.9521\n",
      "Epoch 12/20\n",
      "384/384 [==============================] - 125s 324ms/step - loss: 0.1813 - accuracy: 0.9301 - val_loss: 0.1515 - val_accuracy: 0.9404\n",
      "Epoch 13/20\n",
      "384/384 [==============================] - 125s 324ms/step - loss: 0.1680 - accuracy: 0.9375 - val_loss: 0.1668 - val_accuracy: 0.9410\n",
      "Epoch 14/20\n",
      "384/384 [==============================] - 125s 325ms/step - loss: 0.1711 - accuracy: 0.9349 - val_loss: 0.1634 - val_accuracy: 0.9339\n",
      "Epoch 15/20\n",
      "384/384 [==============================] - 125s 324ms/step - loss: 0.1715 - accuracy: 0.9331 - val_loss: 0.1466 - val_accuracy: 0.9534\n",
      "Epoch 16/20\n",
      "384/384 [==============================] - 125s 324ms/step - loss: 0.1570 - accuracy: 0.9392 - val_loss: 0.1060 - val_accuracy: 0.9599\n",
      "Epoch 17/20\n",
      "384/384 [==============================] - 125s 324ms/step - loss: 0.1534 - accuracy: 0.9414 - val_loss: 0.1110 - val_accuracy: 0.9570\n",
      "Epoch 18/20\n",
      "384/384 [==============================] - 126s 327ms/step - loss: 0.1693 - accuracy: 0.9384 - val_loss: 0.1841 - val_accuracy: 0.9238\n",
      "Epoch 19/20\n",
      "384/384 [==============================] - 127s 329ms/step - loss: 0.1589 - accuracy: 0.9380 - val_loss: 0.1281 - val_accuracy: 0.9479\n",
      "Epoch 20/20\n",
      "384/384 [==============================] - 126s 328ms/step - loss: 0.1389 - accuracy: 0.9464 - val_loss: 0.1033 - val_accuracy: 0.9599\n",
      "INFO:tensorflow:Assets written to: C:\\Users\\diosdadj\\AppData\\Local\\Temp\\tmpbo9jzjel\\model\\data\\model\\assets\n"
     ]
    },
    {
     "name": "stderr",
     "output_type": "stream",
     "text": [
      "2023/02/20 13:32:54 WARNING mlflow.utils.autologging_utils: MLflow autologging encountered a warning: \"c:\\Users\\diosdadj\\Anaconda3\\envs\\ml\\lib\\site-packages\\_distutils_hack\\__init__.py:33: UserWarning: Setuptools is replacing distutils.\"\n"
     ]
    }
   ],
   "source": [
    "epochs = 20\n",
    "history = model.fit(\n",
    "    train_ds, epochs=epochs, validation_data=val_ds, callbacks=[model_checkpoint_callback]\n",
    ")"
   ]
  },
  {
   "cell_type": "code",
   "execution_count": 11,
   "metadata": {},
   "outputs": [],
   "source": [
    "#Guardo el modelo en la última epoch \n",
    "model.save( folder_date + '/emodelo_entrenado.h5')\n"
   ]
  },
  {
   "cell_type": "code",
   "execution_count": 12,
   "metadata": {},
   "outputs": [
    {
     "name": "stdout",
     "output_type": "stream",
     "text": [
      "dict_keys(['loss', 'accuracy', 'val_loss', 'val_accuracy'])\n"
     ]
    }
   ],
   "source": [
    "history\n",
    "print(history.history.keys())"
   ]
  },
  {
   "cell_type": "code",
   "execution_count": 13,
   "metadata": {},
   "outputs": [
    {
     "data": {
      "text/plain": [
       "'2023_02_20-12_48_16_PM/accuracy.png'"
      ]
     },
     "execution_count": 13,
     "metadata": {},
     "output_type": "execute_result"
    }
   ],
   "source": [
    "folder_date + \"/accuracy.png\""
   ]
  },
  {
   "cell_type": "code",
   "execution_count": 14,
   "metadata": {},
   "outputs": [
    {
     "name": "stdout",
     "output_type": "stream",
     "text": [
      "dict_keys(['loss', 'accuracy', 'val_loss', 'val_accuracy'])\n"
     ]
    },
    {
     "data": {
      "image/png": "[encoded data removed]",
      "text/plain": [
       "<Figure size 432x288 with 1 Axes>"
      ]
     },
     "metadata": {
      "needs_background": "light"
     },
     "output_type": "display_data"
    },
    {
     "data": {
      "image/png": "[encoded data removed]",
      "text/plain": [
       "<Figure size 432x288 with 1 Axes>"
      ]
     },
     "metadata": {
      "needs_background": "light"
     },
     "output_type": "display_data"
    }
   ],
   "source": [
    "print(history.history.keys())\n",
    "\n",
    "#  \"Accuracy\"\n",
    "plt.plot(history.history['accuracy'])\n",
    "plt.plot(history.history['val_accuracy'])\n",
    "plt.title('model accuracy')\n",
    "plt.ylabel('accuracy')\n",
    "plt.xlabel('epoch')\n",
    "plt.legend(['train', 'validation'], loc='upper left')\n",
    "plt.savefig(folder_date + \"/accuracy.png\")\n",
    "plt.show()\n",
    "\n",
    "# \"Loss\"\n",
    "plt.plot(history.history['loss'])\n",
    "plt.plot(history.history['val_loss'])\n",
    "plt.title('model loss')\n",
    "plt.ylabel('loss')\n",
    "plt.xlabel('epoch')\n",
    "plt.legend(['train', 'validation'], loc='upper left')\n",
    "plt.savefig(folder_date + \"/loss.png\")\n",
    "plt.show()\n",
    "\n",
    "\n",
    "\n"
   ]
  },
  {
   "attachments": {},
   "cell_type": "markdown",
   "metadata": {},
   "source": [
    "# This is a section to evaluate the model on te test data"
   ]
  },
  {
   "cell_type": "code",
   "execution_count": 15,
   "metadata": {},
   "outputs": [
    {
     "name": "stderr",
     "output_type": "stream",
     "text": [
      "2023/02/20 13:33:03 INFO mlflow.tracking.fluent: Autologging successfully enabled for sklearn.\n"
     ]
    }
   ],
   "source": [
    "from sklearn.metrics import confusion_matrix, ConfusionMatrixDisplay, precision_recall_fscore_support\n"
   ]
  },
  {
   "cell_type": "code",
   "execution_count": 16,
   "metadata": {},
   "outputs": [
    {
     "name": "stdout",
     "output_type": "stream",
     "text": [
      "[0, 0, 0, 0, 0, 2, 2, 2, 0, 2, 2, 0, 2, 2, 2, 2, 2, 2, 2, 2, 1, 2, 2, 2, 2, 2, 2, 2, 2, 2, 2, 2, 2, 2, 2, 1, 1, 1, 1, 1, 1, 1, 1, 0, 0, 0, 1, 1, 1, 1, 0, 0, 0, 0, 0, 0, 0, 0, 2, 0, 0, 0, 0, 0, 0, 0, 2, 2, 2, 0, 1, 1, 1, 1, 1, 1, 1, 1, 1, 1, 1, 1, 1, 1, 1, 2, 2, 2, 2, 2, 2, 2, 2, 2, 2, 2, 2, 2, 2, 2]\n",
      "[0, 0, 0, 0, 0, 0, 0, 0, 0, 0, 0, 0, 0, 0, 0, 0, 0, 0, 0, 0, 2, 2, 2, 2, 2, 2, 2, 2, 2, 2, 2, 2, 1, 1, 1, 1, 1, 1, 1, 1, 1, 1, 1, 1, 1, 1, 1, 1, 1, 1, 0, 0, 0, 0, 0, 0, 0, 0, 0, 0, 0, 0, 0, 0, 0, 0, 0, 0, 0, 0, 1, 1, 1, 1, 1, 1, 1, 1, 1, 1, 1, 1, 1, 1, 1, 2, 2, 2, 2, 2, 2, 2, 2, 2, 2, 2, 2, 2, 2, 2]\n"
     ]
    },
    {
     "data": {
      "image/png": "[encoded data removed]",
      "text/plain": [
       "<Figure size 432x288 with 2 Axes>"
      ]
     },
     "metadata": {
      "needs_background": "light"
     },
     "output_type": "display_data"
    }
   ],
   "source": [
    "\n",
    "# Load the test images from the folder 'test_images'\n",
    "predicted_labels= []\n",
    "true_labels = []\n",
    "\n",
    "directory = \"test_set\"\n",
    "\n",
    "for filename in os.listdir(directory):\n",
    "\n",
    "    # Load the image and add it to the list of test images\n",
    "    f = os.path.join(directory, filename)\n",
    "    imagen = tf.keras.preprocessing.image.load_img(f, target_size=(255,255))\n",
    "    x = tf.keras.preprocessing.image.img_to_array(imagen)    \n",
    "    x = np.expand_dims(x, axis=0)\n",
    "\n",
    "\n",
    "\n",
    "    prediction = model.predict(x)\n",
    "    \n",
    "    predicted_class = np.argmax(prediction)\n",
    "\n",
    "    #True labels are calculated based on name. It is a very weak way of doing it. Look for a better one or rename the files\n",
    "\n",
    "    if 'aca' in filename:\n",
    "        true_labels.append(0)\n",
    "    elif 'scc' in filename or ' e ' in filename:\n",
    "        true_labels.append(2)\n",
    "    elif 'lungn' or ' N ' in filename:\n",
    "        true_labels.append(1)\n",
    "   \n",
    "    \n",
    "\n",
    "    predicted_labels.append(predicted_class)\n",
    "\n",
    "print(predicted_labels)\n",
    "print(true_labels)\n",
    "\n",
    "\n",
    "cm = confusion_matrix(true_labels, predicted_labels)\n",
    "disp = ConfusionMatrixDisplay(confusion_matrix=cm)\n",
    "precision_recall_fscore_support(true_labels, predicted_labels)\n",
    "\n",
    "\n",
    "disp.plot()\n",
    "plt.show()\n",
    "\n"
   ]
  },
  {
   "attachments": {},
   "cell_type": "markdown",
   "metadata": {},
   "source": [
    "#Predice mal en las muestras de Henar. Veremos con el nuevo dataset, pero quizá haya que hacer un training con peso Opciones:\n",
    "\n",
    "Undersample the larger distribution: randomly remove examples from the larger distribution until it matches the size of the smaller one.\n",
    "\n",
    "Oversample the smaller distribution: randomly duplicate examples from the smaller distribution until it matches the size of the larger one.\n",
    "\n",
    "Data augmentation: generate new examples from the smaller distribution using techniques like rotation, flipping, or zooming.\n",
    "\n",
    "Use class weights: adjust the loss function of your CNN to assign higher weights to the smaller distribution so that it receives more emphasis during training.\n",
    "\n",
    "Fine-tuning: you could use a pre-trained model to initialize the weights and only fine-tune the last few layers to fit the imbalanced data."
   ]
  },
  {
   "cell_type": "markdown",
   "metadata": {},
   "source": []
  },
  {
   "cell_type": "markdown",
   "metadata": {},
   "source": []
  },
  {
   "cell_type": "markdown",
   "metadata": {},
   "source": []
  },
  {
   "cell_type": "markdown",
   "metadata": {},
   "source": []
  }
 ],
 "metadata": {
  "kernelspec": {
   "display_name": "ml",
   "language": "python",
   "name": "python3"
  },
  "language_info": {
   "codemirror_mode": {
    "name": "ipython",
    "version": 3
   },
   "file_extension": ".py",
   "mimetype": "text/x-python",
   "name": "python",
   "nbconvert_exporter": "python",
   "pygments_lexer": "ipython3",
   "version": "3.9.12"
  },
  "orig_nbformat": 4,
  "vscode": {
   "interpreter": {
    "hash": "fea903cc172cce62c6301ba3c7eecfb26209215bbdb6c0bb5db0de1694474dd0"
   }
  }
 },
 "nbformat": 4,
 "nbformat_minor": 2
}
